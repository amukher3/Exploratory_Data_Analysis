{
 "cells": [
  {
   "cell_type": "code",
   "execution_count": 87,
   "metadata": {},
   "outputs": [],
   "source": [
    "import pandas as pd\n",
    "df=pd.read_csv('C:/Users/abhi0/Downloads/datasets_733390_1272569_individuals.csv')"
   ]
  },
  {
   "cell_type": "code",
   "execution_count": 88,
   "metadata": {},
   "outputs": [
    {
     "name": "stdout",
     "output_type": "stream",
     "text": [
      "<class 'pandas.core.frame.DataFrame'>\n",
      "RangeIndex: 286 entries, 0 to 285\n",
      "Data columns (total 14 columns):\n",
      "animal_id               286 non-null object\n",
      "sex                     286 non-null object\n",
      "life_stage              67 non-null object\n",
      "pregnant                19 non-null object\n",
      "with_calf               84 non-null object\n",
      "death_cause             54 non-null object\n",
      "study_site              286 non-null object\n",
      "deploy_on_longitude     153 non-null float64\n",
      "deploy_on_latitude      153 non-null float64\n",
      "deploy_on_comments      87 non-null object\n",
      "deploy_off_longitude    56 non-null float64\n",
      "deploy_off_latitude     56 non-null float64\n",
      "deploy_off_type         286 non-null object\n",
      "deploy_off_comments     56 non-null object\n",
      "dtypes: float64(4), object(10)\n",
      "memory usage: 31.4+ KB\n"
     ]
    }
   ],
   "source": [
    "df.info()"
   ]
  },
  {
   "cell_type": "code",
   "execution_count": 89,
   "metadata": {},
   "outputs": [
    {
     "data": {
      "text/html": [
       "<div>\n",
       "<style scoped>\n",
       "    .dataframe tbody tr th:only-of-type {\n",
       "        vertical-align: middle;\n",
       "    }\n",
       "\n",
       "    .dataframe tbody tr th {\n",
       "        vertical-align: top;\n",
       "    }\n",
       "\n",
       "    .dataframe thead th {\n",
       "        text-align: right;\n",
       "    }\n",
       "</style>\n",
       "<table border=\"1\" class=\"dataframe\">\n",
       "  <thead>\n",
       "    <tr style=\"text-align: right;\">\n",
       "      <th></th>\n",
       "      <th>deploy_on_longitude</th>\n",
       "      <th>deploy_on_latitude</th>\n",
       "      <th>deploy_off_longitude</th>\n",
       "      <th>deploy_off_latitude</th>\n",
       "    </tr>\n",
       "  </thead>\n",
       "  <tbody>\n",
       "    <tr>\n",
       "      <td>count</td>\n",
       "      <td>153.000000</td>\n",
       "      <td>153.000000</td>\n",
       "      <td>56.000000</td>\n",
       "      <td>56.000000</td>\n",
       "    </tr>\n",
       "    <tr>\n",
       "      <td>mean</td>\n",
       "      <td>-121.890496</td>\n",
       "      <td>55.038919</td>\n",
       "      <td>-121.947331</td>\n",
       "      <td>55.208681</td>\n",
       "    </tr>\n",
       "    <tr>\n",
       "      <td>std</td>\n",
       "      <td>0.765534</td>\n",
       "      <td>2.214234</td>\n",
       "      <td>0.802524</td>\n",
       "      <td>0.360179</td>\n",
       "    </tr>\n",
       "    <tr>\n",
       "      <td>min</td>\n",
       "      <td>-123.355710</td>\n",
       "      <td>28.134321</td>\n",
       "      <td>-123.615896</td>\n",
       "      <td>54.615270</td>\n",
       "    </tr>\n",
       "    <tr>\n",
       "      <td>25%</td>\n",
       "      <td>-122.579595</td>\n",
       "      <td>54.935885</td>\n",
       "      <td>-122.538051</td>\n",
       "      <td>54.911811</td>\n",
       "    </tr>\n",
       "    <tr>\n",
       "      <td>50%</td>\n",
       "      <td>-122.112325</td>\n",
       "      <td>55.137256</td>\n",
       "      <td>-122.265086</td>\n",
       "      <td>55.135105</td>\n",
       "    </tr>\n",
       "    <tr>\n",
       "      <td>75%</td>\n",
       "      <td>-121.340369</td>\n",
       "      <td>55.331434</td>\n",
       "      <td>-121.349809</td>\n",
       "      <td>55.399212</td>\n",
       "    </tr>\n",
       "    <tr>\n",
       "      <td>max</td>\n",
       "      <td>-120.215852</td>\n",
       "      <td>55.993975</td>\n",
       "      <td>-119.803476</td>\n",
       "      <td>55.945767</td>\n",
       "    </tr>\n",
       "  </tbody>\n",
       "</table>\n",
       "</div>"
      ],
      "text/plain": [
       "       deploy_on_longitude  deploy_on_latitude  deploy_off_longitude  \\\n",
       "count           153.000000          153.000000             56.000000   \n",
       "mean           -121.890496           55.038919           -121.947331   \n",
       "std               0.765534            2.214234              0.802524   \n",
       "min            -123.355710           28.134321           -123.615896   \n",
       "25%            -122.579595           54.935885           -122.538051   \n",
       "50%            -122.112325           55.137256           -122.265086   \n",
       "75%            -121.340369           55.331434           -121.349809   \n",
       "max            -120.215852           55.993975           -119.803476   \n",
       "\n",
       "       deploy_off_latitude  \n",
       "count            56.000000  \n",
       "mean             55.208681  \n",
       "std               0.360179  \n",
       "min              54.615270  \n",
       "25%              54.911811  \n",
       "50%              55.135105  \n",
       "75%              55.399212  \n",
       "max              55.945767  "
      ]
     },
     "execution_count": 89,
     "metadata": {},
     "output_type": "execute_result"
    }
   ],
   "source": [
    "df.describe()"
   ]
  },
  {
   "cell_type": "code",
   "execution_count": 90,
   "metadata": {},
   "outputs": [
    {
     "data": {
      "text/html": [
       "<div>\n",
       "<style scoped>\n",
       "    .dataframe tbody tr th:only-of-type {\n",
       "        vertical-align: middle;\n",
       "    }\n",
       "\n",
       "    .dataframe tbody tr th {\n",
       "        vertical-align: top;\n",
       "    }\n",
       "\n",
       "    .dataframe thead th {\n",
       "        text-align: right;\n",
       "    }\n",
       "</style>\n",
       "<table border=\"1\" class=\"dataframe\">\n",
       "  <thead>\n",
       "    <tr style=\"text-align: right;\">\n",
       "      <th></th>\n",
       "      <th>animal_id</th>\n",
       "      <th>sex</th>\n",
       "      <th>life_stage</th>\n",
       "      <th>pregnant</th>\n",
       "      <th>with_calf</th>\n",
       "      <th>death_cause</th>\n",
       "      <th>study_site</th>\n",
       "      <th>deploy_on_longitude</th>\n",
       "      <th>deploy_on_latitude</th>\n",
       "      <th>deploy_on_comments</th>\n",
       "      <th>deploy_off_longitude</th>\n",
       "      <th>deploy_off_latitude</th>\n",
       "      <th>deploy_off_type</th>\n",
       "      <th>deploy_off_comments</th>\n",
       "    </tr>\n",
       "  </thead>\n",
       "  <tbody>\n",
       "    <tr>\n",
       "      <td>0</td>\n",
       "      <td>HR_151.510</td>\n",
       "      <td>f</td>\n",
       "      <td>NaN</td>\n",
       "      <td>NaN</td>\n",
       "      <td>NaN</td>\n",
       "      <td>NaN</td>\n",
       "      <td>Hart Ranges</td>\n",
       "      <td>NaN</td>\n",
       "      <td>NaN</td>\n",
       "      <td>NaN</td>\n",
       "      <td>NaN</td>\n",
       "      <td>NaN</td>\n",
       "      <td>unknown</td>\n",
       "      <td>NaN</td>\n",
       "    </tr>\n",
       "    <tr>\n",
       "      <td>1</td>\n",
       "      <td>GR_C04</td>\n",
       "      <td>f</td>\n",
       "      <td>NaN</td>\n",
       "      <td>NaN</td>\n",
       "      <td>NaN</td>\n",
       "      <td>NaN</td>\n",
       "      <td>Graham</td>\n",
       "      <td>NaN</td>\n",
       "      <td>NaN</td>\n",
       "      <td>NaN</td>\n",
       "      <td>NaN</td>\n",
       "      <td>NaN</td>\n",
       "      <td>unknown</td>\n",
       "      <td>NaN</td>\n",
       "    </tr>\n",
       "    <tr>\n",
       "      <td>2</td>\n",
       "      <td>GR_C03</td>\n",
       "      <td>f</td>\n",
       "      <td>NaN</td>\n",
       "      <td>NaN</td>\n",
       "      <td>NaN</td>\n",
       "      <td>NaN</td>\n",
       "      <td>Graham</td>\n",
       "      <td>NaN</td>\n",
       "      <td>NaN</td>\n",
       "      <td>NaN</td>\n",
       "      <td>NaN</td>\n",
       "      <td>NaN</td>\n",
       "      <td>unknown</td>\n",
       "      <td>NaN</td>\n",
       "    </tr>\n",
       "    <tr>\n",
       "      <td>3</td>\n",
       "      <td>HR_151.805</td>\n",
       "      <td>f</td>\n",
       "      <td>NaN</td>\n",
       "      <td>NaN</td>\n",
       "      <td>NaN</td>\n",
       "      <td>NaN</td>\n",
       "      <td>Hart Ranges</td>\n",
       "      <td>NaN</td>\n",
       "      <td>NaN</td>\n",
       "      <td>NaN</td>\n",
       "      <td>NaN</td>\n",
       "      <td>NaN</td>\n",
       "      <td>unknown</td>\n",
       "      <td>NaN</td>\n",
       "    </tr>\n",
       "    <tr>\n",
       "      <td>4</td>\n",
       "      <td>HR_151.760</td>\n",
       "      <td>f</td>\n",
       "      <td>NaN</td>\n",
       "      <td>NaN</td>\n",
       "      <td>NaN</td>\n",
       "      <td>NaN</td>\n",
       "      <td>Hart Ranges</td>\n",
       "      <td>NaN</td>\n",
       "      <td>NaN</td>\n",
       "      <td>NaN</td>\n",
       "      <td>NaN</td>\n",
       "      <td>NaN</td>\n",
       "      <td>unknown</td>\n",
       "      <td>NaN</td>\n",
       "    </tr>\n",
       "  </tbody>\n",
       "</table>\n",
       "</div>"
      ],
      "text/plain": [
       "    animal_id sex life_stage pregnant with_calf death_cause   study_site  \\\n",
       "0  HR_151.510   f        NaN      NaN       NaN         NaN  Hart Ranges   \n",
       "1      GR_C04   f        NaN      NaN       NaN         NaN       Graham   \n",
       "2      GR_C03   f        NaN      NaN       NaN         NaN       Graham   \n",
       "3  HR_151.805   f        NaN      NaN       NaN         NaN  Hart Ranges   \n",
       "4  HR_151.760   f        NaN      NaN       NaN         NaN  Hart Ranges   \n",
       "\n",
       "   deploy_on_longitude  deploy_on_latitude deploy_on_comments  \\\n",
       "0                  NaN                 NaN                NaN   \n",
       "1                  NaN                 NaN                NaN   \n",
       "2                  NaN                 NaN                NaN   \n",
       "3                  NaN                 NaN                NaN   \n",
       "4                  NaN                 NaN                NaN   \n",
       "\n",
       "   deploy_off_longitude  deploy_off_latitude deploy_off_type  \\\n",
       "0                   NaN                  NaN         unknown   \n",
       "1                   NaN                  NaN         unknown   \n",
       "2                   NaN                  NaN         unknown   \n",
       "3                   NaN                  NaN         unknown   \n",
       "4                   NaN                  NaN         unknown   \n",
       "\n",
       "  deploy_off_comments  \n",
       "0                 NaN  \n",
       "1                 NaN  \n",
       "2                 NaN  \n",
       "3                 NaN  \n",
       "4                 NaN  "
      ]
     },
     "execution_count": 90,
     "metadata": {},
     "output_type": "execute_result"
    }
   ],
   "source": [
    "df.head()"
   ]
  },
  {
   "cell_type": "code",
   "execution_count": 91,
   "metadata": {},
   "outputs": [
    {
     "data": {
      "text/plain": [
       "286"
      ]
     },
     "execution_count": 91,
     "metadata": {},
     "output_type": "execute_result"
    }
   ],
   "source": [
    "len(df)"
   ]
  },
  {
   "cell_type": "code",
   "execution_count": 92,
   "metadata": {},
   "outputs": [
    {
     "data": {
      "text/plain": [
       "0"
      ]
     },
     "execution_count": 92,
     "metadata": {},
     "output_type": "execute_result"
    }
   ],
   "source": [
    "df['study_site'].isnull().sum()"
   ]
  },
  {
   "cell_type": "code",
   "execution_count": 93,
   "metadata": {},
   "outputs": [
    {
     "data": {
      "text/plain": [
       "0"
      ]
     },
     "execution_count": 93,
     "metadata": {},
     "output_type": "execute_result"
    }
   ],
   "source": [
    "df['study_site'].isna().sum()"
   ]
  },
  {
   "cell_type": "code",
   "execution_count": 94,
   "metadata": {},
   "outputs": [
    {
     "data": {
      "text/plain": [
       "array(['Hart Ranges', 'Graham', 'Kennedy', 'Moberly', 'Quintette',\n",
       "       'Burnt Pine', 'Narraway', 'Scott'], dtype=object)"
      ]
     },
     "execution_count": 94,
     "metadata": {},
     "output_type": "execute_result"
    }
   ],
   "source": [
    "df['study_site'].unique()"
   ]
  },
  {
   "cell_type": "code",
   "execution_count": 95,
   "metadata": {},
   "outputs": [
    {
     "data": {
      "text/plain": [
       "Quintette      77\n",
       "Graham         55\n",
       "Hart Ranges    52\n",
       "Kennedy        51\n",
       "Moberly        26\n",
       "Narraway       12\n",
       "Burnt Pine      9\n",
       "Scott           4\n",
       "Name: study_site, dtype: int64"
      ]
     },
     "execution_count": 95,
     "metadata": {},
     "output_type": "execute_result"
    }
   ],
   "source": [
    "df['study_site'].value_counts()"
   ]
  },
  {
   "cell_type": "code",
   "execution_count": 161,
   "metadata": {},
   "outputs": [
    {
     "data": {
      "text/plain": [
       "f    64\n",
       "Name: sex, dtype: int64"
      ]
     },
     "execution_count": 161,
     "metadata": {},
     "output_type": "execute_result"
    }
   ],
   "source": [
    "df['sex'].value_counts()"
   ]
  },
  {
   "cell_type": "code",
   "execution_count": 96,
   "metadata": {},
   "outputs": [
    {
     "data": {
      "text/plain": [
       "<BarContainer object of 8 artists>"
      ]
     },
     "execution_count": 96,
     "metadata": {},
     "output_type": "execute_result"
    },
    {
     "data": {
      "image/png": "[encoded data removed]",
      "text/plain": [
       "<Figure size 432x288 with 1 Axes>"
      ]
     },
     "metadata": {
      "needs_background": "light"
     },
     "output_type": "display_data"
    }
   ],
   "source": [
    "import matplotlib.pyplot as plt\n",
    "temp=list(df['study_site'].value_counts().keys())\n",
    "tempPrime=list(df['study_site'].value_counts())\n",
    "plt.tick_params(axis='x',rotation=70)\n",
    "plt.title('Distribution of the study site')\n",
    "plt.ylabel('#Frequency')\n",
    "plt.xlabel('study sites')\n",
    "plt.bar(temp,tempPrime)"
   ]
  },
  {
   "cell_type": "code",
   "execution_count": 97,
   "metadata": {},
   "outputs": [
    {
     "data": {
      "text/plain": [
       "Index(['animal_id', 'sex', 'life_stage', 'pregnant', 'with_calf',\n",
       "       'death_cause', 'study_site', 'deploy_on_longitude',\n",
       "       'deploy_on_latitude', 'deploy_on_comments', 'deploy_off_longitude',\n",
       "       'deploy_off_latitude', 'deploy_off_type', 'deploy_off_comments'],\n",
       "      dtype='object')"
      ]
     },
     "execution_count": 97,
     "metadata": {},
     "output_type": "execute_result"
    }
   ],
   "source": [
    "df.columns"
   ]
  },
  {
   "cell_type": "code",
   "execution_count": 98,
   "metadata": {},
   "outputs": [],
   "source": [
    "df['life_stage']=df['life_stage'].dropna()"
   ]
  },
  {
   "cell_type": "code",
   "execution_count": 99,
   "metadata": {},
   "outputs": [
    {
     "data": {
      "text/plain": [
       "219"
      ]
     },
     "execution_count": 99,
     "metadata": {},
     "output_type": "execute_result"
    }
   ],
   "source": [
    "df['life_stage'].isna().sum()"
   ]
  },
  {
   "cell_type": "code",
   "execution_count": 100,
   "metadata": {},
   "outputs": [],
   "source": [
    "df=df.dropna(subset=['life_stage'])"
   ]
  },
  {
   "cell_type": "code",
   "execution_count": 101,
   "metadata": {},
   "outputs": [
    {
     "data": {
      "text/plain": [
       "3-5      20\n",
       "4-6      12\n",
       "5-7      11\n",
       "2-3       9\n",
       "6-8       6\n",
       "8-10      4\n",
       "12-15     4\n",
       "10-12     1\n",
       "Name: life_stage, dtype: int64"
      ]
     },
     "execution_count": 101,
     "metadata": {},
     "output_type": "execute_result"
    }
   ],
   "source": [
    "df['life_stage'].value_counts()"
   ]
  },
  {
   "cell_type": "code",
   "execution_count": 119,
   "metadata": {},
   "outputs": [
    {
     "data": {
      "text/plain": [
       "<BarContainer object of 8 artists>"
      ]
     },
     "execution_count": 119,
     "metadata": {},
     "output_type": "execute_result"
    },
    {
     "data": {
      "image/png": "[encoded data removed]",
      "text/plain": [
       "<Figure size 432x288 with 1 Axes>"
      ]
     },
     "metadata": {
      "needs_background": "light"
     },
     "output_type": "display_data"
    }
   ],
   "source": [
    "temp=list(df['life_stage'].value_counts().keys())\n",
    "tempPrime=list(df['life_stage'].value_counts())\n",
    "plt.tick_params(axis='x',rotation=70)\n",
    "plt.title('Distribution of life stage of the animals')\n",
    "plt.ylabel('#Frequency count')\n",
    "plt.xlabel('Age groups of animals')\n",
    "plt.bar(temp,tempPrime)"
   ]
  },
  {
   "cell_type": "code",
   "execution_count": 103,
   "metadata": {},
   "outputs": [
    {
     "data": {
      "text/plain": [
       "Index(['animal_id', 'sex', 'life_stage', 'pregnant', 'with_calf',\n",
       "       'death_cause', 'study_site', 'deploy_on_longitude',\n",
       "       'deploy_on_latitude', 'deploy_on_comments', 'deploy_off_longitude',\n",
       "       'deploy_off_latitude', 'deploy_off_type', 'deploy_off_comments'],\n",
       "      dtype='object')"
      ]
     },
     "execution_count": 103,
     "metadata": {},
     "output_type": "execute_result"
    }
   ],
   "source": [
    "df.columns"
   ]
  },
  {
   "cell_type": "code",
   "execution_count": 104,
   "metadata": {},
   "outputs": [
    {
     "data": {
      "text/plain": [
       "67"
      ]
     },
     "execution_count": 104,
     "metadata": {},
     "output_type": "execute_result"
    }
   ],
   "source": [
    "df['pregnant'].isnull().sum()"
   ]
  },
  {
   "cell_type": "code",
   "execution_count": 105,
   "metadata": {},
   "outputs": [
    {
     "data": {
      "text/plain": [
       "array([nan], dtype=object)"
      ]
     },
     "execution_count": 105,
     "metadata": {},
     "output_type": "execute_result"
    }
   ],
   "source": [
    "df['pregnant'].unique()"
   ]
  },
  {
   "cell_type": "code",
   "execution_count": 106,
   "metadata": {},
   "outputs": [
    {
     "data": {
      "text/plain": [
       "False    54\n",
       "True     10\n",
       "Name: with_calf, dtype: int64"
      ]
     },
     "execution_count": 106,
     "metadata": {},
     "output_type": "execute_result"
    }
   ],
   "source": [
    "df['with_calf'].value_counts()"
   ]
  },
  {
   "cell_type": "code",
   "execution_count": 109,
   "metadata": {},
   "outputs": [
    {
     "data": {
      "text/plain": [
       "3"
      ]
     },
     "execution_count": 109,
     "metadata": {},
     "output_type": "execute_result"
    }
   ],
   "source": [
    "df['with_calf'].isna().sum()"
   ]
  },
  {
   "cell_type": "code",
   "execution_count": 110,
   "metadata": {},
   "outputs": [],
   "source": [
    "df=df.dropna(subset=['with_calf'])"
   ]
  },
  {
   "cell_type": "code",
   "execution_count": 112,
   "metadata": {},
   "outputs": [
    {
     "data": {
      "text/plain": [
       "0"
      ]
     },
     "execution_count": 112,
     "metadata": {},
     "output_type": "execute_result"
    }
   ],
   "source": [
    "df['with_calf'].isna().sum()"
   ]
  },
  {
   "cell_type": "code",
   "execution_count": 117,
   "metadata": {},
   "outputs": [
    {
     "data": {
      "image/png": "[encoded data removed]",
      "text/plain": [
       "<Figure size 432x288 with 1 Axes>"
      ]
     },
     "metadata": {
      "needs_background": "light"
     },
     "output_type": "display_data"
    }
   ],
   "source": [
    "temp=['False','True']\n",
    "tempPrime=list(df['with_calf'].value_counts())\n",
    "plt.title('with Calf')\n",
    "plt.ylabel('#Count')\n",
    "plt.bar(temp,tempPrime)\n",
    "plt.show()"
   ]
  },
  {
   "cell_type": "code",
   "execution_count": 118,
   "metadata": {},
   "outputs": [
    {
     "data": {
      "text/plain": [
       "Index(['animal_id', 'sex', 'life_stage', 'pregnant', 'with_calf',\n",
       "       'death_cause', 'study_site', 'deploy_on_longitude',\n",
       "       'deploy_on_latitude', 'deploy_on_comments', 'deploy_off_longitude',\n",
       "       'deploy_off_latitude', 'deploy_off_type', 'deploy_off_comments'],\n",
       "      dtype='object')"
      ]
     },
     "execution_count": 118,
     "metadata": {},
     "output_type": "execute_result"
    }
   ],
   "source": [
    "df.columns"
   ]
  },
  {
   "cell_type": "code",
   "execution_count": 128,
   "metadata": {},
   "outputs": [
    {
     "data": {
      "image/png": "[encoded data removed]",
      "text/plain": [
       "<Figure size 432x288 with 1 Axes>"
      ]
     },
     "metadata": {
      "needs_background": "light"
     },
     "output_type": "display_data"
    }
   ],
   "source": [
    "#Age groups of animals With Calf:\n",
    "\n",
    "temp=df[df['with_calf']==1]['life_stage'].value_counts().keys()\n",
    "tempPrime=df[df['with_calf']==1]['life_stage'].value_counts()\n",
    "\n",
    "plt.bar(temp,tempPrime)\n",
    "plt.title('Distribution of age-groups of animals with calfs')\n",
    "plt.ylabel('#Count')\n",
    "plt.xlabel('Age groups')\n",
    "plt.show()"
   ]
  },
  {
   "cell_type": "code",
   "execution_count": 130,
   "metadata": {},
   "outputs": [
    {
     "data": {
      "image/png": "[encoded data removed]",
      "text/plain": [
       "<Figure size 432x288 with 1 Axes>"
      ]
     },
     "metadata": {
      "needs_background": "light"
     },
     "output_type": "display_data"
    }
   ],
   "source": [
    "#Age groups of animals Without Calf:\n",
    "\n",
    "temp=df[df['with_calf']==0]['life_stage'].value_counts().keys()\n",
    "tempPrime=df[df['with_calf']==0]['life_stage'].value_counts()\n",
    "\n",
    "plt.bar(temp,tempPrime)\n",
    "plt.title('Distribution of age-groups of animals without calfs')\n",
    "plt.ylabel('#Count')\n",
    "plt.xlabel('Age groups')\n",
    "plt.show()"
   ]
  },
  {
   "cell_type": "code",
   "execution_count": 131,
   "metadata": {},
   "outputs": [
    {
     "data": {
      "text/plain": [
       "Index(['animal_id', 'sex', 'life_stage', 'pregnant', 'with_calf',\n",
       "       'death_cause', 'study_site', 'deploy_on_longitude',\n",
       "       'deploy_on_latitude', 'deploy_on_comments', 'deploy_off_longitude',\n",
       "       'deploy_off_latitude', 'deploy_off_type', 'deploy_off_comments'],\n",
       "      dtype='object')"
      ]
     },
     "execution_count": 131,
     "metadata": {},
     "output_type": "execute_result"
    }
   ],
   "source": [
    "df.columns"
   ]
  },
  {
   "cell_type": "code",
   "execution_count": 132,
   "metadata": {},
   "outputs": [
    {
     "data": {
      "text/html": [
       "<div>\n",
       "<style scoped>\n",
       "    .dataframe tbody tr th:only-of-type {\n",
       "        vertical-align: middle;\n",
       "    }\n",
       "\n",
       "    .dataframe tbody tr th {\n",
       "        vertical-align: top;\n",
       "    }\n",
       "\n",
       "    .dataframe thead th {\n",
       "        text-align: right;\n",
       "    }\n",
       "</style>\n",
       "<table border=\"1\" class=\"dataframe\">\n",
       "  <thead>\n",
       "    <tr style=\"text-align: right;\">\n",
       "      <th></th>\n",
       "      <th>animal_id</th>\n",
       "      <th>sex</th>\n",
       "      <th>life_stage</th>\n",
       "      <th>pregnant</th>\n",
       "      <th>with_calf</th>\n",
       "      <th>death_cause</th>\n",
       "      <th>study_site</th>\n",
       "      <th>deploy_on_longitude</th>\n",
       "      <th>deploy_on_latitude</th>\n",
       "      <th>deploy_on_comments</th>\n",
       "      <th>deploy_off_longitude</th>\n",
       "      <th>deploy_off_latitude</th>\n",
       "      <th>deploy_off_type</th>\n",
       "      <th>deploy_off_comments</th>\n",
       "    </tr>\n",
       "  </thead>\n",
       "  <tbody>\n",
       "    <tr>\n",
       "      <td>191</td>\n",
       "      <td>MO_car102</td>\n",
       "      <td>f</td>\n",
       "      <td>12-15</td>\n",
       "      <td>NaN</td>\n",
       "      <td>False</td>\n",
       "      <td>NaN</td>\n",
       "      <td>Moberly</td>\n",
       "      <td>-122.606107</td>\n",
       "      <td>55.993975</td>\n",
       "      <td>NaN</td>\n",
       "      <td>NaN</td>\n",
       "      <td>NaN</td>\n",
       "      <td>removal</td>\n",
       "      <td>NaN</td>\n",
       "    </tr>\n",
       "    <tr>\n",
       "      <td>193</td>\n",
       "      <td>BP_car100</td>\n",
       "      <td>f</td>\n",
       "      <td>3-5</td>\n",
       "      <td>NaN</td>\n",
       "      <td>False</td>\n",
       "      <td>NaN</td>\n",
       "      <td>Burnt Pine</td>\n",
       "      <td>-122.315281</td>\n",
       "      <td>55.421263</td>\n",
       "      <td>includ. CAR101 (149.730); *no photos due to te...</td>\n",
       "      <td>NaN</td>\n",
       "      <td>NaN</td>\n",
       "      <td>removal</td>\n",
       "      <td>NaN</td>\n",
       "    </tr>\n",
       "    <tr>\n",
       "      <td>194</td>\n",
       "      <td>MO_car103</td>\n",
       "      <td>f</td>\n",
       "      <td>2-3</td>\n",
       "      <td>NaN</td>\n",
       "      <td>False</td>\n",
       "      <td>NaN</td>\n",
       "      <td>Moberly</td>\n",
       "      <td>-122.497179</td>\n",
       "      <td>55.868622</td>\n",
       "      <td>NaN</td>\n",
       "      <td>NaN</td>\n",
       "      <td>NaN</td>\n",
       "      <td>removal</td>\n",
       "      <td>NaN</td>\n",
       "    </tr>\n",
       "    <tr>\n",
       "      <td>195</td>\n",
       "      <td>MO_car104</td>\n",
       "      <td>f</td>\n",
       "      <td>5-7</td>\n",
       "      <td>NaN</td>\n",
       "      <td>False</td>\n",
       "      <td>NaN</td>\n",
       "      <td>Moberly</td>\n",
       "      <td>-122.450123</td>\n",
       "      <td>55.789017</td>\n",
       "      <td>includ. CAR080  (ATS 148.228)</td>\n",
       "      <td>NaN</td>\n",
       "      <td>NaN</td>\n",
       "      <td>removal</td>\n",
       "      <td>NaN</td>\n",
       "    </tr>\n",
       "    <tr>\n",
       "      <td>196</td>\n",
       "      <td>QU_car106</td>\n",
       "      <td>f</td>\n",
       "      <td>3-5</td>\n",
       "      <td>NaN</td>\n",
       "      <td>False</td>\n",
       "      <td>NaN</td>\n",
       "      <td>Quintette</td>\n",
       "      <td>-120.984469</td>\n",
       "      <td>54.924343</td>\n",
       "      <td>includ. CAR105 and CAR059</td>\n",
       "      <td>NaN</td>\n",
       "      <td>NaN</td>\n",
       "      <td>removal</td>\n",
       "      <td>NaN</td>\n",
       "    </tr>\n",
       "  </tbody>\n",
       "</table>\n",
       "</div>"
      ],
      "text/plain": [
       "     animal_id sex life_stage pregnant with_calf death_cause  study_site  \\\n",
       "191  MO_car102   f      12-15      NaN     False         NaN     Moberly   \n",
       "193  BP_car100   f        3-5      NaN     False         NaN  Burnt Pine   \n",
       "194  MO_car103   f        2-3      NaN     False         NaN     Moberly   \n",
       "195  MO_car104   f        5-7      NaN     False         NaN     Moberly   \n",
       "196  QU_car106   f        3-5      NaN     False         NaN   Quintette   \n",
       "\n",
       "     deploy_on_longitude  deploy_on_latitude  \\\n",
       "191          -122.606107           55.993975   \n",
       "193          -122.315281           55.421263   \n",
       "194          -122.497179           55.868622   \n",
       "195          -122.450123           55.789017   \n",
       "196          -120.984469           54.924343   \n",
       "\n",
       "                                    deploy_on_comments  deploy_off_longitude  \\\n",
       "191                                                NaN                   NaN   \n",
       "193  includ. CAR101 (149.730); *no photos due to te...                   NaN   \n",
       "194                                                NaN                   NaN   \n",
       "195                      includ. CAR080  (ATS 148.228)                   NaN   \n",
       "196                          includ. CAR105 and CAR059                   NaN   \n",
       "\n",
       "     deploy_off_latitude deploy_off_type deploy_off_comments  \n",
       "191                  NaN         removal                 NaN  \n",
       "193                  NaN         removal                 NaN  \n",
       "194                  NaN         removal                 NaN  \n",
       "195                  NaN         removal                 NaN  \n",
       "196                  NaN         removal                 NaN  "
      ]
     },
     "execution_count": 132,
     "metadata": {},
     "output_type": "execute_result"
    }
   ],
   "source": [
    "df.head()"
   ]
  },
  {
   "cell_type": "code",
   "execution_count": 133,
   "metadata": {},
   "outputs": [
    {
     "data": {
      "text/plain": [
       "44"
      ]
     },
     "execution_count": 133,
     "metadata": {},
     "output_type": "execute_result"
    }
   ],
   "source": [
    "df['death_cause'].isna().sum()"
   ]
  },
  {
   "cell_type": "code",
   "execution_count": 136,
   "metadata": {},
   "outputs": [
    {
     "data": {
      "text/plain": [
       "45"
      ]
     },
     "execution_count": 136,
     "metadata": {},
     "output_type": "execute_result"
    }
   ],
   "source": [
    "df['deploy_off_longitude'].isna().sum()"
   ]
  },
  {
   "cell_type": "code",
   "execution_count": 137,
   "metadata": {},
   "outputs": [
    {
     "data": {
      "text/plain": [
       "45"
      ]
     },
     "execution_count": 137,
     "metadata": {},
     "output_type": "execute_result"
    }
   ],
   "source": [
    "df['deploy_off_latitude'].isna().sum()"
   ]
  },
  {
   "cell_type": "code",
   "execution_count": 145,
   "metadata": {},
   "outputs": [
    {
     "data": {
      "text/plain": [
       "array(['Moberly', 'Burnt Pine', 'Quintette', 'Kennedy', 'Narraway',\n",
       "       'Scott'], dtype=object)"
      ]
     },
     "execution_count": 145,
     "metadata": {},
     "output_type": "execute_result"
    }
   ],
   "source": [
    "df['study_site'].unique()"
   ]
  },
  {
   "cell_type": "code",
   "execution_count": 157,
   "metadata": {},
   "outputs": [
    {
     "data": {
      "image/png": "[encoded data removed]",
      "text/plain": [
       "<Figure size 432x288 with 1 Axes>"
      ]
     },
     "metadata": {
      "needs_background": "light"
     },
     "output_type": "display_data"
    },
    {
     "data": {
      "image/png": "[encoded data removed]",
      "text/plain": [
       "<Figure size 432x288 with 1 Axes>"
      ]
     },
     "metadata": {
      "needs_background": "light"
     },
     "output_type": "display_data"
    },
    {
     "data": {
      "image/png": "[encoded data removed]",
      "text/plain": [
       "<Figure size 432x288 with 1 Axes>"
      ]
     },
     "metadata": {
      "needs_background": "light"
     },
     "output_type": "display_data"
    },
    {
     "data": {
      "image/png": "[encoded data removed]",
      "text/plain": [
       "<Figure size 432x288 with 1 Axes>"
      ]
     },
     "metadata": {
      "needs_background": "light"
     },
     "output_type": "display_data"
    },
    {
     "data": {
      "image/png": "[encoded data removed]",
      "text/plain": [
       "<Figure size 432x288 with 1 Axes>"
      ]
     },
     "metadata": {
      "needs_background": "light"
     },
     "output_type": "display_data"
    },
    {
     "data": {
      "image/png": "[encoded data removed]",
      "text/plain": [
       "<Figure size 432x288 with 1 Axes>"
      ]
     },
     "metadata": {
      "needs_background": "light"
     },
     "output_type": "display_data"
    }
   ],
   "source": [
    "for i in df['study_site'].unique():\n",
    "    \n",
    "    temp=df[df['study_site']==i]['life_stage'].value_counts().keys()\n",
    "    tempPrime=df[df['study_site']==i]['life_stage'].value_counts()\n",
    "\n",
    "    plt.bar(temp,tempPrime)\n",
    "    plt.title(f'frequency distribution of age groups of animals at \\'{i}\\'')\n",
    "    plt.xlabel('Age groups')\n",
    "    plt.ylabel('Count')\n",
    "    plt.show()\n",
    "    "
   ]
  },
  {
   "cell_type": "code",
   "execution_count": null,
   "metadata": {},
   "outputs": [],
   "source": []
  }
 ],
 "metadata": {
  "kernelspec": {
   "display_name": "Python 3",
   "language": "python",
   "name": "python3"
  },
  "language_info": {
   "codemirror_mode": {
    "name": "ipython",
    "version": 3
   },
   "file_extension": ".py",
   "mimetype": "text/x-python",
   "name": "python",
   "nbconvert_exporter": "python",
   "pygments_lexer": "ipython3",
   "version": "3.7.4"
  }
 },
 "nbformat": 4,
 "nbformat_minor": 2
}
